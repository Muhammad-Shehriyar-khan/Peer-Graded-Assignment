{
  "metadata": {
    "language_info": {
      "codemirror_mode": {
        "name": "python",
        "version": 3
      },
      "file_extension": ".py",
      "mimetype": "text/x-python",
      "name": "python",
      "nbconvert_exporter": "python",
      "pygments_lexer": "ipython3",
      "version": "3.8"
    },
    "kernelspec": {
      "name": "python",
      "display_name": "Pyolite",
      "language": "python"
    }
  },
  "nbformat_minor": 4,
  "nbformat": 4,
  "cells": [
    {
      "cell_type": "markdown",
      "source": "## My Jupyter Notebook on IBM Watson Studio",
      "metadata": {}
    },
    {
      "cell_type": "markdown",
      "source": "**Muhammad Shehriyar khan**",
      "metadata": {}
    },
    {
      "cell_type": "markdown",
      "source": "<i> \"I am interested in data science course because it's sexiest job of 21st with location independencies\" \n",
      "metadata": {}
    },
    {
      "cell_type": "markdown",
      "source": "<h3> The code is about ploting a graph using matplotlib",
      "metadata": {}
    },
    {
      "cell_type": "code",
      "source": "a= 2\nb = 3\nc = a*b\nprint (c)",
      "metadata": {
        "trusted": true
      },
      "execution_count": 8,
      "outputs": [
        {
          "name": "stdout",
          "text": "6\n",
          "output_type": "stream"
        }
      ]
    },
    {
      "cell_type": "markdown",
      "source": "**1.Strong**\n\n\n|Header a|Header b|\n|--------|--------|\n|content a|content b|\n\n~~Strikethrough~~",
      "metadata": {}
    },
    {
      "cell_type": "code",
      "source": "",
      "metadata": {},
      "execution_count": null,
      "outputs": []
    }
  ]
}